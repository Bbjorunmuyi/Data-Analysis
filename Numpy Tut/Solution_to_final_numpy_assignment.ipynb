{
 "cells": [
  {
   "cell_type": "code",
   "execution_count": 1,
   "metadata": {},
   "outputs": [],
   "source": [
    "import numpy as np"
   ]
  },
  {
   "cell_type": "markdown",
   "metadata": {},
   "source": [
    "## SOLVING DETERMINANT OF A GIVEN (n x n) MATRICES "
   ]
  },
  {
   "cell_type": "code",
   "execution_count": 3,
   "metadata": {},
   "outputs": [
    {
     "name": "stdout",
     "output_type": "stream",
     "text": [
      "DETERMINANT CALCULATOR\n",
      "Enter the number of rows: 2\n",
      "Enter the number of cols: 2\n",
      "Enter values for row 0 seperated by comma (,) :  2,2\n",
      "Enter values for row 1 seperated by comma (,) :  2,2\n",
      "\n",
      "The determinant of \n",
      " [[2 2]\n",
      " [2 2]] is  0.0\n"
     ]
    }
   ],
   "source": [
    "def getMatrix():\n",
    "    try:\n",
    "        print(\"DETERMINANT CALCULATOR\")\n",
    "        mat = []\n",
    "        rows = int(input(\"Enter the number of rows: \"))\n",
    "        cols = int(input(\"Enter the number of cols: \"))\n",
    "        if rows != cols:\n",
    "            print(\"Number of columns must be equal to Number of rows\")\n",
    "        else:\n",
    "\n",
    "            for row in range(rows):\n",
    "                mat.append([])\n",
    "                values = input(\"Enter values for row {} seperated by comma (,) :  \".format(row)).split(',')\n",
    "                if len(values) == cols:\n",
    "                    for i in values:\n",
    "                        mat[row].append(int(i))\n",
    "                else:\n",
    "                    print(\"Column doesn't match\")\n",
    "                    break\n",
    "    except ValueError as err:\n",
    "        print(err)\n",
    "    except:\n",
    "        print('An error occured')\n",
    "        \n",
    "    return mat\n",
    "\n",
    "def main():\n",
    "    try:\n",
    "        matrix = getMatrix()\n",
    "        if len(matrix) !=0:\n",
    "            matrix = np.array(matrix)\n",
    "            determinant = np.linalg.det(matrix)\n",
    "            print()\n",
    "            print(f\"The determinant of \\n {matrix} is \",end=' ')\n",
    "            return determinant\n",
    "    except:\n",
    "        print(\"An error occured\")\n",
    "if __name__ == '__main__':\n",
    "    print(main())\n"
   ]
  },
  {
   "cell_type": "markdown",
   "metadata": {},
   "source": [
    "# SYSTEM OF LINEAR EQUATION\n",
    "suppose we<br> x + y + z = 19 <br>\n",
    "           2x + 4y   = 2 <br>\n",
    "           3x + 9y -3z = 4 <br>\n",
    " To solve the equation above we have to transform it to matrices.<br>\n",
    " By doing this we will have<br>\n",
    "<b>Matrix A</b><br>[ [ 1, 1, 1 ]<br>\n",
    "                  [ 2, 4, 0 ]<br>\n",
    "                  [ 3, 9, -3 ] ]<br>\n",
    "and a column<b> Vector B </b><br>\n",
    "[ [ 19 ]<br>\n",
    "[ 2 ]<br>\n",
    "[ 4 ] ]<br>\n",
    "\n",
    "We then compute the <b>unknown</b><br>[x,y,z]<br>\n",
    "X = A(^-1)B\n",
    "\n",
    "## The steps followed:\n",
    "1. Get all values for <b>matrix A</b><br>\n",
    "2. Then get all values for <b>column vector B</b> corresponding to each row in matrix A.<br>\n",
    "3. Then solve by leveraging on numpy ability.<br>"
   ]
  },
  {
   "cell_type": "code",
   "execution_count": null,
   "metadata": {},
   "outputs": [],
   "source": []
  },
  {
   "cell_type": "code",
   "execution_count": 3,
   "metadata": {},
   "outputs": [
    {
     "name": "stdout",
     "output_type": "stream",
     "text": [
      "==============================WElCOME TO SYSTEM OF LINEAR EQUATION.=========================\n",
      "How many unknowns : 3\n",
      "GETTING VALUES FOR MATRIX A \n",
      "Enter values for row 0 seperated by comma (,) :  1,1,1\n",
      "Enter values for row 1 seperated by comma (,) :  2,4,0\n",
      "Enter values for row 2 seperated by comma (,) :  3,9,-3\n",
      "Enter value for row 1, of the column vector:19\n",
      "Enter value for row 2, of the column vector:2\n",
      "Enter value for row 3, of the column vector:4\n",
      "Cannot compute solution for singular matrix\n"
     ]
    }
   ],
   "source": [
    "\n",
    "def getMatrixA():\n",
    "    try:\n",
    "        print(\"==============================WElCOME TO SYSTEM OF LINEAR EQUATION.=========================\")        \n",
    "        mat = []\n",
    "        rows = int(input(\"How many unknowns : \"))\n",
    "        cols = rows\n",
    "        print(\"GETTING VALUES FOR MATRIX A \")\n",
    "        for row in range(rows):\n",
    "            mat.append([])\n",
    "            values = input(\"Enter values for row {} seperated by comma (,) :  \".format(row)).split(',')\n",
    "            if len(values) == cols:\n",
    "                for i in values:\n",
    "                    mat[row].append(int(i))\n",
    "            else:\n",
    "                print(\"Column doesn't match\")\n",
    "                break\n",
    "    except ValueError as err:\n",
    "        print(err)\n",
    "        \n",
    "    return mat\n",
    "\n",
    "matrixA = getMatrixA() \n",
    "n = len(matrixA)\n",
    "\n",
    "def getVectorB():\n",
    "    try:\n",
    "        matB = []\n",
    "        for i in range(1,n+1):\n",
    "            value = eval(input(\"Enter value for row {}, of the column vector:\".format(i)))\n",
    "            matB.append(value)\n",
    "        return matB\n",
    "    except ValueError as err:\n",
    "        print(err)\n",
    "\n",
    "matrixB = getVectorB()\n",
    "\n",
    "A = np.asarray(matrixA) \n",
    "B = np.asarray(matrixB).reshape(n,1)\n",
    "\n",
    "if np.linalg.det(A) == 0:\n",
    "    print(\"Cannot compute solution for singular matrix\")\n",
    "\n",
    "else:\n",
    "\n",
    "    A_inv = np.linalg.inv(A)\n",
    "\n",
    "\n",
    "    X = np.linalg.solve(A_inv,B)\n",
    "\n",
    "    print('A = \\n', A)\n",
    "    print('B = \\n', B)\n",
    "\n",
    "\n",
    "    print(\"The solution for the  equation is: \\n\",X)\n",
    "\n",
    "\n"
   ]
  },
  {
   "cell_type": "markdown",
   "metadata": {},
   "source": [
    "### HERE IS ANOTHER FORMAT...... without handling exceptions."
   ]
  },
  {
   "cell_type": "code",
   "execution_count": 4,
   "metadata": {},
   "outputs": [
    {
     "name": "stdout",
     "output_type": "stream",
     "text": [
      "WELCOME TO SYSTEM OF LINEAR EQUATION\n",
      "Enter the number of rows: 2\n",
      "Enter the number of cols: 2\n",
      "Enter value for row 0, column 0 of the matrix: 3\n",
      "Enter value for row 0, column 1 of the matrix: 4\n",
      "Enter value for row 1, column 0 of the matrix: 2\n",
      "Enter value for row 1, column 1 of the matrix: -6\n",
      "Enter value for row 1, of the column vector:3\n",
      "Enter value for row 2, of the column vector:4\n",
      "A = \n",
      " [[ 3  4]\n",
      " [ 2 -6]]\n",
      "B = \n",
      " [[3]\n",
      " [4]]\n",
      "The solution for the  equation is: \n",
      " [[ 25.]\n",
      " [-18.]]\n"
     ]
    }
   ],
   "source": [
    "import numpy as  np\n",
    "\n",
    "def getMatrix_A():\n",
    "    print(\"WELCOME TO SYSTEM OF LINEAR EQUATION\")\n",
    "    matA = []\n",
    "    rows = int(input(\"Enter the number of rows: \"))\n",
    "    cols = int(input(\"Enter the number of cols: \"))\n",
    "    if rows != cols:\n",
    "        print(\"Number of columns must be equal to Number of rows\")\n",
    "    else:\n",
    "\n",
    "        for row in range(rows):\n",
    "            matA.append([])\n",
    "            for col in range(cols):\n",
    "                value = eval(input(\"Enter value for row {}, column {} of the matrix: \".format(row,col)))\n",
    "                matA[row].append(value)\n",
    "    return matA\n",
    "\n",
    "matrixA = getMatrix_A()  \n",
    "n = len(matrixA)\n",
    "\n",
    "\n",
    "def getVector_B():\n",
    "    matB = []\n",
    "    for i in range(1,n+1):\n",
    "        value = eval(input(\"Enter value for row {}, of the column vector:\".format(i)))\n",
    "        matB.append(value)\n",
    "    return matB\n",
    "\n",
    "      \n",
    "matrixB = getVector_B()\n",
    "\n",
    "   \n",
    "A = np.asarray(matrixA) \n",
    "B = np.asarray(matrixB).reshape(n,1)\n",
    "\n",
    "A_inv = np.linalg.inv(A)\n",
    "\n",
    "\n",
    "X = np.linalg.solve(A_inv,B)\n",
    "\n",
    "det = np.linalg.det(A)\n",
    "\n",
    "\n",
    "\n",
    "print('A = \\n', A)\n",
    "print('B = \\n', B)\n",
    "\n",
    "\n",
    "print(\"The solution for the  equation is: \\n\",X)\n",
    "\n"
   ]
  },
  {
   "cell_type": "code",
   "execution_count": null,
   "metadata": {},
   "outputs": [],
   "source": []
  }
 ],
 "metadata": {
  "kernelspec": {
   "display_name": "Python 3",
   "language": "python",
   "name": "python3"
  },
  "language_info": {
   "codemirror_mode": {
    "name": "ipython",
    "version": 3
   },
   "file_extension": ".py",
   "mimetype": "text/x-python",
   "name": "python",
   "nbconvert_exporter": "python",
   "pygments_lexer": "ipython3",
   "version": "3.7.3"
  }
 },
 "nbformat": 4,
 "nbformat_minor": 2
}
